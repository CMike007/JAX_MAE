{
 "cells": [
  {
   "attachments": {},
   "cell_type": "markdown",
   "metadata": {},
   "source": [
    "#### This file will demonstrate, and visualise the key functionalities of the Jax order book implementation. Further, it will measure the walltime speeds for these basic operations."
   ]
  },
  {
   "cell_type": "code",
   "execution_count": 7,
   "metadata": {},
   "outputs": [
    {
     "name": "stdout",
     "output_type": "stream",
     "text": [
      "The autoreload extension is already loaded. To reload it, use:\n",
      "  %reload_ext autoreload\n"
     ]
    }
   ],
   "source": [
    "%load_ext autoreload\n",
    "%autoreload 2\n",
    "from functools import partial, partialmethod\n",
    "from typing import OrderedDict\n",
    "from jax import numpy as jnp\n",
    "import jax\n",
    "\n",
    "import sys\n",
    "sys.path.append('/Users/millionaire/Desktop/UCL/Thesis/AlphaTrade-jaxV3')\n",
    "\n",
    "#jax.config.update('jax_platform_name', 'cpu')\n",
    "\n",
    "import gymnax_exchange.jaxob.JaxOrderBookArrays as job\n",
    "\n",
    "import random\n",
    "import time\n",
    "import timeit\n",
    "\n",
    "import gymnax_exchange\n",
    "\n",
    "\n"
   ]
  },
  {
   "cell_type": "code",
   "execution_count": 11,
   "metadata": {},
   "outputs": [],
   "source": [
    "def create_init_book(booksize=10,tradessize=10,pricerange=[2190000,2200000,2210000],quantrange=[0,500],timeinit=[34200,0]):\n",
    "    ''' \n",
    "    Add:\n",
    "    I´m a little confused that we do not care about bids that are higher than asks and vice versa ...\n",
    "    Adjusted Code by Mike 6.06 at 14:35\n",
    "    Original Code:\n",
    "    asks.append([random.randint(pricerange[1],pricerange[2]),random.randint(quantrange[0],quantrange[1]),orderid,traderid,times,timens])\n",
    "    bids.append([random.randint(pricerange[1],pricerange[2]),random.randint(quantrange[0],quantrange[1]),orderid+1,traderid+1,times,timens])\n",
    "    '''\n",
    "    qtofill=booksize//3 #fill one third of the available space\n",
    "    asks=[] \n",
    "    bids=[]\n",
    "    orderid=1000\n",
    "    traderid=1000 \n",
    "    times=timeinit[0]\n",
    "    timens=timeinit[1]\n",
    "    for i in range(qtofill):\n",
    "        asks.append([random.randint(pricerange[1],pricerange[2]),random.randint(quantrange[0],quantrange[1]),orderid,traderid,times,timens])\n",
    "        times+=random.randint(0,1)\n",
    "        timens+=random.randint(0,10000)\n",
    "        bids.append([random.randint(pricerange[0],pricerange[1]),random.randint(quantrange[0],quantrange[1]),orderid+1,traderid+1,times,timens])\n",
    "        times+=random.randint(0,1)\n",
    "        timens+=random.randint(0,10000)\n",
    "        orderid+=2\n",
    "        traderid+=2\n",
    "    bids=jnp.concatenate((jnp.array(bids),jnp.ones((booksize-qtofill,6),dtype=jnp.int32)*-1),axis=0)\n",
    "    asks=jnp.concatenate((jnp.array(asks),jnp.ones((booksize-qtofill,6),dtype=jnp.int32)*-1),axis=0)\n",
    "    trades=jnp.ones((tradessize,6),dtype=jnp.int32)*-1\n",
    "    return asks,bids,trades\n",
    "\n",
    "def create_message(type='limit',side='bid',price=2200000,quant=10,times=36000,timens=0):\n",
    "    if type=='limit':\n",
    "        type_num=1\n",
    "    elif type =='cancel' or type == 'delete':\n",
    "        type_num=2\n",
    "    elif type =='market':\n",
    "        type_num=4\n",
    "    else:\n",
    "        raise ValueError('Type is none of: limit, cancel, delete or market')\n",
    "\n",
    "    if side=='bid':\n",
    "        side_num=1\n",
    "    elif side =='ask':\n",
    "        side_num=-1\n",
    "    else:\n",
    "        raise ValueError('Side is none of: bid or ask')\n",
    "    \n",
    "    dict_msg={\n",
    "    'side':side_num,\n",
    "    'type':type_num,\n",
    "    'price':price,\n",
    "    'quantity':quant,\n",
    "    'orderid':8888,\n",
    "    'traderid':8888,\n",
    "    'time':times,\n",
    "    'time_ns':timens}\n",
    "    array_msg=jnp.array([type_num,side_num,quant,price,8888,8888,times,timens])\n",
    "    return dict_msg,array_msg\n",
    "\n",
    "def create_message_forvmap(type='limit',side='bid',price=2200000,quant=10,times=36000,timens=0,nvmap=10):\n",
    "    if type=='limit':\n",
    "        type_num=1\n",
    "    elif type =='cancel' or type == 'delete':\n",
    "        type_num=2\n",
    "    elif type =='market':\n",
    "        type_num=4\n",
    "    else:\n",
    "        raise ValueError('Type is none of: limit, cancel, delete or market')\n",
    "\n",
    "    if side=='bid':\n",
    "        side_num=1\n",
    "    elif side =='ask':\n",
    "        side_num=-1\n",
    "    else:\n",
    "        raise ValueError('Side is none of: bid or ask')\n",
    "    \n",
    "    dict_msg={\n",
    "    'side':jnp.array([side_num]*nvmap),\n",
    "    'type':jnp.array([type_num]*nvmap),\n",
    "    'price':jnp.array([price]*nvmap),\n",
    "    'quantity':jnp.array([quant]*nvmap),\n",
    "    'orderid':jnp.array([8888]*nvmap),\n",
    "    'traderid':jnp.array([8888]*nvmap),\n",
    "    'time':jnp.array([times]*nvmap),\n",
    "    'time_ns':jnp.array([timens]*nvmap)}\n",
    "    array_msg=jnp.array([type_num,side_num,quant,price,8888,8888,times,timens]*nvmap)\n",
    "    return dict_msg,array_msg"
   ]
  },
  {
   "attachments": {},
   "cell_type": "markdown",
   "metadata": {},
   "source": [
    "Measuring the time for the most basic operations: Adding and order and removing an order from a given side of the book."
   ]
  },
  {
   "cell_type": "code",
   "execution_count": 14,
   "metadata": {},
   "outputs": [
    {
     "name": "stdout",
     "output_type": "stream",
     "text": [
      "Add time for orderbook of size 10 : 2.2923666998394766e-05\n",
      "Add time for orderbook of size 100 : 2.1344291002606043e-05\n",
      "Add time for orderbook of size 1000 : 4.853370900309528e-05\n",
      "[[2204242     494    1001    1001   34201     663]\n",
      " [2209558     456    1003    1003   34203   13163]\n",
      " [2204104     465    1005    1005   34203   22984]\n",
      " [2191200      77    8888    8888   36000       0]\n",
      " [     -1      -1      -1      -1      -1      -1]\n",
      " [     -1      -1      -1      -1      -1      -1]\n",
      " [     -1      -1      -1      -1      -1      -1]\n",
      " [     -1      -1      -1      -1      -1      -1]\n",
      " [     -1      -1      -1      -1      -1      -1]\n",
      " [     -1      -1      -1      -1      -1      -1]]\n",
      "VMAP add time for orderbook of size 10  \n",
      " various incoming order sizes: 0.0006840860000011162\n",
      "VMAP add time for orderbook of size 100  \n",
      " various incoming order sizes: 0.004222076082998683\n",
      "VMAP add time for orderbook of size 1000  \n",
      " various incoming order sizes: 0.03733441954199952\n"
     ]
    }
   ],
   "source": [
    "## Add an order\n",
    "n_runs=1000\n",
    "random.seed(0)\n",
    "addout=[]\n",
    "for i in [10,100,1000]:\n",
    "    asks,bids,trades=create_init_book(booksize=i)\n",
    "    mdict,marray=create_message(type='limit',side='bid',price=2191200,quant=77)\n",
    "    out=job.add_order(bids,mdict)\n",
    "    addout.append(out)\n",
    "    print(\"Add time for orderbook of size\",i,\":\",timeit.timeit('val=job.add_order(bids,mdict); jax.block_until_ready(val)',number=n_runs,globals=globals())/n_runs)\n",
    "    \n",
    "print(addout[0])\n",
    "\n",
    "random.seed(0)\n",
    "#Now do it when vmapped\n",
    "nvmap=1000\n",
    "for i,s in enumerate([10,100,1000]):\n",
    "    asks,bids,trades=create_init_book(booksize=s)\n",
    "    vmdict,marray=create_message_forvmap(type='limit',side='bid',price=2191200,quant=77,nvmap=nvmap)\n",
    "\n",
    "    vbids=jnp.array([bids]*nvmap)\n",
    "\n",
    "    out=job.add_order(bids,mdict)\n",
    "    outv=jax.vmap(job.add_order,(0,{'orderid': 0, 'price': 0, 'quantity': 0, 'side': 0, 'time': 0, 'time_ns': 0, 'traderid': 0, 'type': 0}))(vbids,vmdict)\n",
    "    \n",
    "    print(\"VMAP add time for orderbook of size\",s,\" \\n various incoming order sizes:\",timeit.timeit(\"val=jax.vmap(job.add_order,(0,{'orderid': 0, 'price': 0, 'quantity': 0, 'side': 0, 'time': 0, 'time_ns': 0, 'traderid': 0, 'type': 0}))(vbids,vmdict); jax.block_until_ready(val)\",number=n_runs,globals=globals())/n_runs)\n",
    "\n",
    "\n",
    "\n",
    "\n"
   ]
  },
  {
   "cell_type": "code",
   "execution_count": 15,
   "metadata": {},
   "outputs": [
    {
     "name": "stdout",
     "output_type": "stream",
     "text": [
      "Cancel time for orderbook of size 10 : 1.402724999934435e-05\n",
      "Cancel time for orderbook of size 100 : 1.421916700201109e-05\n",
      "Cancel time for orderbook of size 1000 : 1.915174999885494e-05\n"
     ]
    },
    {
     "data": {
      "text/plain": [
       "Array([[2204242,     494,    1001,    1001,   34201,     663],\n",
       "       [2209558,     456,    1003,    1003,   34203,   13163],\n",
       "       [2204104,     465,    1005,    1005,   34203,   22984],\n",
       "       [     -1,      -1,      -1,      -1,      -1,      -1],\n",
       "       [     -1,      -1,      -1,      -1,      -1,      -1],\n",
       "       [     -1,      -1,      -1,      -1,      -1,      -1],\n",
       "       [     -1,      -1,      -1,      -1,      -1,      -1],\n",
       "       [     -1,      -1,      -1,      -1,      -1,      -1],\n",
       "       [     -1,      -1,      -1,      -1,      -1,      -1],\n",
       "       [     -1,      -1,      -1,      -1,      -1,      -1]],      dtype=int32)"
      ]
     },
     "execution_count": 15,
     "metadata": {},
     "output_type": "execute_result"
    }
   ],
   "source": [
    "## Cancel an order\n",
    "n_runs=1000\n",
    "random.seed(0)\n",
    "cancelout=[]\n",
    "for i,s in enumerate([10,100,1000]):\n",
    "    bids=addout[i]\n",
    "    mdict,marray=create_message(type='cancel',side='bid',price=2191200,quant=77)\n",
    "    out=job.cancel_order(bids,mdict)\n",
    "    cancelout.append(out)\n",
    "    print(\"Cancel time for orderbook of size\",s,\":\",timeit.timeit('val=job.cancel_order(bids,mdict); jax.block_until_ready(val)',number=n_runs,globals=globals())/n_runs)\n",
    "cancelout[0]"
   ]
  },
  {
   "attachments": {},
   "cell_type": "markdown",
   "metadata": {},
   "source": [
    "Matching a single order against an identified order from the other side of the book:"
   ]
  },
  {
   "cell_type": "code",
   "execution_count": 21,
   "metadata": {},
   "outputs": [
    {
     "name": "stdout",
     "output_type": "stream",
     "text": [
      "Time to get top bid order for order book of size  10 : 8.134166004310828e-06\n",
      "Match time for orderbook of size 10 : 3.160449999995763e-05\n",
      "Time to get top bid order for order book of size  100 : 8.639083003799897e-06\n",
      "Match time for orderbook of size 100 : 2.5700958001834807e-05\n",
      "Time to get top bid order for order book of size  1000 : 1.6346124997653533e-05\n",
      "Match time for orderbook of size 1000 : 2.763362500263611e-05\n"
     ]
    },
    {
     "data": {
      "text/plain": [
       "(Array([[2204242,     494,    1001,    1001,   34201,     663],\n",
       "        [     -1,      -1,      -1,      -1,      -1,      -1],\n",
       "        [2204104,     465,    1005,    1005,   34203,   22984],\n",
       "        [     -1,      -1,      -1,      -1,      -1,      -1],\n",
       "        [     -1,      -1,      -1,      -1,      -1,      -1],\n",
       "        [     -1,      -1,      -1,      -1,      -1,      -1],\n",
       "        [     -1,      -1,      -1,      -1,      -1,      -1],\n",
       "        [     -1,      -1,      -1,      -1,      -1,      -1],\n",
       "        [     -1,      -1,      -1,      -1,      -1,      -1],\n",
       "        [     -1,      -1,      -1,      -1,      -1,      -1]],      dtype=int32),\n",
       " Array(544, dtype=int32),\n",
       " Array([[2209558,     456,    1003,    9999,   36000,       1],\n",
       "        [     -1,      -1,      -1,      -1,      -1,      -1],\n",
       "        [     -1,      -1,      -1,      -1,      -1,      -1],\n",
       "        [     -1,      -1,      -1,      -1,      -1,      -1],\n",
       "        [     -1,      -1,      -1,      -1,      -1,      -1],\n",
       "        [     -1,      -1,      -1,      -1,      -1,      -1],\n",
       "        [     -1,      -1,      -1,      -1,      -1,      -1],\n",
       "        [     -1,      -1,      -1,      -1,      -1,      -1],\n",
       "        [     -1,      -1,      -1,      -1,      -1,      -1],\n",
       "        [     -1,      -1,      -1,      -1,      -1,      -1]],      dtype=int32))"
      ]
     },
     "execution_count": 21,
     "metadata": {},
     "output_type": "execute_result"
    }
   ],
   "source": [
    "matchout=[]\n",
    "\n",
    "for i,s in enumerate([10,100,1000]):\n",
    "    '''\n",
    "    Adjusted by Mike 06.06 13:35\n",
    "    Original code was:\n",
    "    matchtuple=(bids,1000,0,idx,trades,9999,36000,1)\n",
    "    bids,qtm,price,idx,trades,agrid,times,timens=job.match_order(matchtuple)\n",
    "    '''\n",
    "    _,_,trades=create_init_book(booksize=s)\n",
    "\n",
    "    bids=cancelout[i]\n",
    "    idx=job.__get_top_bid_order_idx(bids)\n",
    "    print(\"Time to get top bid order for order book of size \",s,\":\",timeit.timeit('val=job.__get_top_bid_order_idx(bids); jax.block_until_ready(val)',number=n_runs,globals=globals())/n_runs)\n",
    "\n",
    "    matchtuple=(idx, bids, 1000, 0, trades, 9999, 36000, 1)\n",
    "    bids,qtm,price,trades,agrid,times,timens=job.match_order(matchtuple)\n",
    "    \n",
    "    matchout.append((bids,qtm,trades))\n",
    "    print(\"Match time for orderbook of size\",s,\":\",timeit.timeit('val=job.match_order(matchtuple); jax.block_until_ready(val)',number=n_runs,globals=globals())/n_runs)\n",
    "matchout[0]"
   ]
  },
  {
   "attachments": {},
   "cell_type": "markdown",
   "metadata": {},
   "source": [
    "Match against an entire side, continuing until either the full incoming order is matched, the book is empty, or the best price is no longer acceptable to the lim-order."
   ]
  },
  {
   "cell_type": "code",
   "execution_count": 22,
   "metadata": {},
   "outputs": [
    {
     "name": "stdout",
     "output_type": "stream",
     "text": [
      "Match time for orderbook of size 10  \n",
      " with an incoming order of size 0 : 2.029716700053541e-05\n",
      "Match time for orderbook of size 10  \n",
      " with an incoming order of size 10 : 2.1648417001415508e-05\n",
      "Match time for orderbook of size 10  \n",
      " with an incoming order of size 500 : 2.284325000073295e-05\n",
      "Match time for orderbook of size 10  \n",
      " with an incoming order of size 1000 : 2.1224832998996135e-05\n",
      "Match time for orderbook of size 10  \n",
      " with an incoming order of size 10000 : 2.172916700510541e-05\n",
      "Match time for orderbook of size 100  \n",
      " with an incoming order of size 0 : 2.286583300156053e-05\n",
      "Match time for orderbook of size 100  \n",
      " with an incoming order of size 10 : 2.9515375004848464e-05\n",
      "Match time for orderbook of size 100  \n",
      " with an incoming order of size 500 : 3.4804542003257665e-05\n",
      "Match time for orderbook of size 100  \n",
      " with an incoming order of size 1000 : 2.7688583999406546e-05\n",
      "Match time for orderbook of size 100  \n",
      " with an incoming order of size 10000 : 2.8163791001134087e-05\n",
      "Match time for orderbook of size 1000  \n",
      " with an incoming order of size 0 : 3.0469499994069336e-05\n",
      "Match time for orderbook of size 1000  \n",
      " with an incoming order of size 10 : 7.244150000042283e-05\n",
      "Match time for orderbook of size 1000  \n",
      " with an incoming order of size 500 : 7.220666699868161e-05\n",
      "Match time for orderbook of size 1000  \n",
      " with an incoming order of size 1000 : 7.380904099409235e-05\n",
      "Match time for orderbook of size 1000  \n",
      " with an incoming order of size 10000 : 7.294358299986926e-05\n",
      "VMAP Match time for orderbook of size 10  \n",
      " various incoming order sizes: 0.0009407801659981487\n",
      "VMAP Match time for orderbook of size 100  \n",
      " various incoming order sizes: 0.007345505208999384\n",
      "VMAP Match time for orderbook of size 1000  \n",
      " various incoming order sizes: 0.057861738459003394\n"
     ]
    }
   ],
   "source": [
    "matchout=[]\n",
    "\n",
    "for i,s in enumerate([10,100,1000]):\n",
    "    for j,q in enumerate([0,10,500,1000,10000]):\n",
    "        _,_,trades=create_init_book(booksize=s,tradessize=s)\n",
    "\n",
    "        bids=cancelout[i]\n",
    "\n",
    "        matchtuple=(bids,q,0,trades,9999,36000,1)\n",
    "        bids,qtm,price,trades=job._match_against_bid_orders(*matchtuple)\n",
    "        \n",
    "        matchout.append((bids,qtm,trades))\n",
    "        print(\"Match time for orderbook of size\",s,\" \\n with an incoming order of size\",q,\":\",timeit.timeit('val=job._match_against_bid_orders(*matchtuple); jax.block_until_ready(val)',number=n_runs,globals=globals())/n_runs)\n",
    "\n",
    "\n",
    "#Now do it when vmapped (i.e. this skips the cond)\n",
    "nvmap=1000\n",
    "for i,s in enumerate([10,100,1000]):\n",
    "    _,_,trades=create_init_book(booksize=s,tradessize=s)\n",
    "    bids=cancelout[i]\n",
    "\n",
    "    vbids=jnp.array([bids]*nvmap)\n",
    "    vtrades=jnp.array([trades]*nvmap)\n",
    "    vq=jnp.array([100,100,100,100,100]*(nvmap//5))\n",
    "\n",
    "    matchtuple=(vbids,vq,0,vtrades,9999,36000,1)\n",
    "    jax.vmap(job._match_against_bid_orders,((0,0,None,0,None,None,None)))(*matchtuple)\n",
    "    \n",
    "    matchout.append((bids,qtm,trades))\n",
    "    print(\"VMAP Match time for orderbook of size\",s,\" \\n various incoming order sizes:\",timeit.timeit('val=jax.vmap(job._match_against_bid_orders,((0,0,None,0,None,None,None)))(*matchtuple); jax.block_until_ready(val)',number=n_runs,globals=globals())/n_runs)\n",
    "\n",
    "\n"
   ]
  },
  {
   "attachments": {},
   "cell_type": "markdown",
   "metadata": {},
   "source": [
    "Matching is what takes the longest, and increases when the while loop needs to turn for longer. But even for a single iteration, it takes roughly 1.5 times the time than a simple add order.\n",
    "Next we consider the higher-level message types and include the branching logic required to direct orders across different types and sides of orders."
   ]
  },
  {
   "cell_type": "code",
   "execution_count": 23,
   "metadata": {},
   "outputs": [
    {
     "name": "stdout",
     "output_type": "stream",
     "text": [
      "Limit order for book of size  10 : 2.709624999988591e-05\n",
      "Cancel order for book of size  10 : 2.660962500522146e-05\n",
      "Matched limit order for book of size  10 : 2.5626583999837748e-05\n",
      "VMAP limit order for book of size  10 : 1.6759693045000021\n"
     ]
    },
    {
     "ename": "KeyboardInterrupt",
     "evalue": "",
     "output_type": "error",
     "traceback": [
      "\u001b[0;31m---------------------------------------------------------------------------\u001b[0m",
      "\u001b[0;31mKeyboardInterrupt\u001b[0m                         Traceback (most recent call last)",
      "Cell \u001b[0;32mIn[23], line 28\u001b[0m\n\u001b[1;32m     26\u001b[0m \u001b[38;5;28mprint\u001b[39m(\u001b[38;5;124m\"\u001b[39m\u001b[38;5;124mVMAP limit order for book of size \u001b[39m\u001b[38;5;124m\"\u001b[39m,i,\u001b[38;5;124m\"\u001b[39m\u001b[38;5;124m:\u001b[39m\u001b[38;5;124m\"\u001b[39m,timeit\u001b[38;5;241m.\u001b[39mtimeit(\u001b[38;5;124m'\u001b[39m\u001b[38;5;124mval=jax.vmap(job.cond_type_side,((0,0,0),0))((vasks,vbids,vtrades),vlimitms); jax.block_until_ready(val)\u001b[39m\u001b[38;5;124m'\u001b[39m,number\u001b[38;5;241m=\u001b[39mn_runs,\u001b[38;5;28mglobals\u001b[39m\u001b[38;5;241m=\u001b[39m\u001b[38;5;28mglobals\u001b[39m())\u001b[38;5;241m/\u001b[39mn_runs)\n\u001b[1;32m     27\u001b[0m out,_\u001b[38;5;241m=\u001b[39mjax\u001b[38;5;241m.\u001b[39mvmap(job\u001b[38;5;241m.\u001b[39mcond_type_side,((\u001b[38;5;241m0\u001b[39m,\u001b[38;5;241m0\u001b[39m,\u001b[38;5;241m0\u001b[39m),\u001b[38;5;241m0\u001b[39m))(out,vcancelms)\n\u001b[0;32m---> 28\u001b[0m \u001b[38;5;28mprint\u001b[39m(\u001b[38;5;124m\"\u001b[39m\u001b[38;5;124mVMAP cancel order for book of size \u001b[39m\u001b[38;5;124m\"\u001b[39m,i,\u001b[38;5;124m\"\u001b[39m\u001b[38;5;124m:\u001b[39m\u001b[38;5;124m\"\u001b[39m,\u001b[43mtimeit\u001b[49m\u001b[38;5;241;43m.\u001b[39;49m\u001b[43mtimeit\u001b[49m\u001b[43m(\u001b[49m\u001b[38;5;124;43m'\u001b[39;49m\u001b[38;5;124;43mval=jax.vmap(job.cond_type_side,((0,0,0),0))(out,vcancelms); jax.block_until_ready(val)\u001b[39;49m\u001b[38;5;124;43m'\u001b[39;49m\u001b[43m,\u001b[49m\u001b[43mnumber\u001b[49m\u001b[38;5;241;43m=\u001b[39;49m\u001b[43mn_runs\u001b[49m\u001b[43m,\u001b[49m\u001b[38;5;28;43mglobals\u001b[39;49m\u001b[38;5;241;43m=\u001b[39;49m\u001b[38;5;28;43mglobals\u001b[39;49m\u001b[43m(\u001b[49m\u001b[43m)\u001b[49m\u001b[43m)\u001b[49m\u001b[38;5;241m/\u001b[39mn_runs)\n\u001b[1;32m     29\u001b[0m out,_\u001b[38;5;241m=\u001b[39mjax\u001b[38;5;241m.\u001b[39mvmap(job\u001b[38;5;241m.\u001b[39mcond_type_side,((\u001b[38;5;241m0\u001b[39m,\u001b[38;5;241m0\u001b[39m,\u001b[38;5;241m0\u001b[39m),\u001b[38;5;241m0\u001b[39m))(out,vmatchms)\n\u001b[1;32m     30\u001b[0m \u001b[38;5;28mprint\u001b[39m(\u001b[38;5;124m\"\u001b[39m\u001b[38;5;124mVMAP matched limit order for book of size \u001b[39m\u001b[38;5;124m\"\u001b[39m,i,\u001b[38;5;124m\"\u001b[39m\u001b[38;5;124m:\u001b[39m\u001b[38;5;124m\"\u001b[39m,timeit\u001b[38;5;241m.\u001b[39mtimeit(\u001b[38;5;124m'\u001b[39m\u001b[38;5;124mval=jax.vmap(job.cond_type_side,((0,0,0),0))(out,vmatchms); jax.block_until_ready(val)\u001b[39m\u001b[38;5;124m'\u001b[39m,number\u001b[38;5;241m=\u001b[39mn_runs,\u001b[38;5;28mglobals\u001b[39m\u001b[38;5;241m=\u001b[39m\u001b[38;5;28mglobals\u001b[39m())\u001b[38;5;241m/\u001b[39mn_runs)\n",
      "File \u001b[0;32m~/anaconda3/envs/JAX/lib/python3.11/timeit.py:237\u001b[0m, in \u001b[0;36mtimeit\u001b[0;34m(stmt, setup, timer, number, globals)\u001b[0m\n\u001b[1;32m    234\u001b[0m \u001b[38;5;28;01mdef\u001b[39;00m \u001b[38;5;21mtimeit\u001b[39m(stmt\u001b[38;5;241m=\u001b[39m\u001b[38;5;124m\"\u001b[39m\u001b[38;5;124mpass\u001b[39m\u001b[38;5;124m\"\u001b[39m, setup\u001b[38;5;241m=\u001b[39m\u001b[38;5;124m\"\u001b[39m\u001b[38;5;124mpass\u001b[39m\u001b[38;5;124m\"\u001b[39m, timer\u001b[38;5;241m=\u001b[39mdefault_timer,\n\u001b[1;32m    235\u001b[0m            number\u001b[38;5;241m=\u001b[39mdefault_number, \u001b[38;5;28mglobals\u001b[39m\u001b[38;5;241m=\u001b[39m\u001b[38;5;28;01mNone\u001b[39;00m):\n\u001b[1;32m    236\u001b[0m \u001b[38;5;250m    \u001b[39m\u001b[38;5;124;03m\"\"\"Convenience function to create Timer object and call timeit method.\"\"\"\u001b[39;00m\n\u001b[0;32m--> 237\u001b[0m     \u001b[38;5;28;01mreturn\u001b[39;00m \u001b[43mTimer\u001b[49m\u001b[43m(\u001b[49m\u001b[43mstmt\u001b[49m\u001b[43m,\u001b[49m\u001b[43m \u001b[49m\u001b[43msetup\u001b[49m\u001b[43m,\u001b[49m\u001b[43m \u001b[49m\u001b[43mtimer\u001b[49m\u001b[43m,\u001b[49m\u001b[43m \u001b[49m\u001b[38;5;28;43mglobals\u001b[39;49m\u001b[43m)\u001b[49m\u001b[38;5;241;43m.\u001b[39;49m\u001b[43mtimeit\u001b[49m\u001b[43m(\u001b[49m\u001b[43mnumber\u001b[49m\u001b[43m)\u001b[49m\n",
      "File \u001b[0;32m~/anaconda3/envs/JAX/lib/python3.11/timeit.py:180\u001b[0m, in \u001b[0;36mTimer.timeit\u001b[0;34m(self, number)\u001b[0m\n\u001b[1;32m    178\u001b[0m gc\u001b[38;5;241m.\u001b[39mdisable()\n\u001b[1;32m    179\u001b[0m \u001b[38;5;28;01mtry\u001b[39;00m:\n\u001b[0;32m--> 180\u001b[0m     timing \u001b[38;5;241m=\u001b[39m \u001b[38;5;28;43mself\u001b[39;49m\u001b[38;5;241;43m.\u001b[39;49m\u001b[43minner\u001b[49m\u001b[43m(\u001b[49m\u001b[43mit\u001b[49m\u001b[43m,\u001b[49m\u001b[43m \u001b[49m\u001b[38;5;28;43mself\u001b[39;49m\u001b[38;5;241;43m.\u001b[39;49m\u001b[43mtimer\u001b[49m\u001b[43m)\u001b[49m\n\u001b[1;32m    181\u001b[0m \u001b[38;5;28;01mfinally\u001b[39;00m:\n\u001b[1;32m    182\u001b[0m     \u001b[38;5;28;01mif\u001b[39;00m gcold:\n",
      "File \u001b[0;32m<timeit-src>:6\u001b[0m, in \u001b[0;36minner\u001b[0;34m(_it, _timer)\u001b[0m\n",
      "    \u001b[0;31m[... skipping hidden 1 frame]\u001b[0m\n",
      "File \u001b[0;32m~/anaconda3/envs/JAX/lib/python3.11/site-packages/jax/_src/api.py:1214\u001b[0m, in \u001b[0;36mvmap.<locals>.vmap_f\u001b[0;34m(*args, **kwargs)\u001b[0m\n\u001b[1;32m   1211\u001b[0m in_axes_flat \u001b[38;5;241m=\u001b[39m flatten_axes(\u001b[38;5;124m\"\u001b[39m\u001b[38;5;124mvmap in_axes\u001b[39m\u001b[38;5;124m\"\u001b[39m, in_tree, (in_axes, \u001b[38;5;241m0\u001b[39m), kws\u001b[38;5;241m=\u001b[39m\u001b[38;5;28;01mTrue\u001b[39;00m)\n\u001b[1;32m   1212\u001b[0m axis_size_ \u001b[38;5;241m=\u001b[39m (axis_size \u001b[38;5;28;01mif\u001b[39;00m axis_size \u001b[38;5;129;01mis\u001b[39;00m \u001b[38;5;129;01mnot\u001b[39;00m \u001b[38;5;28;01mNone\u001b[39;00m \u001b[38;5;28;01melse\u001b[39;00m\n\u001b[1;32m   1213\u001b[0m               _mapped_axis_size(fun, in_tree, args_flat, in_axes_flat, \u001b[38;5;124m\"\u001b[39m\u001b[38;5;124mvmap\u001b[39m\u001b[38;5;124m\"\u001b[39m))\n\u001b[0;32m-> 1214\u001b[0m out_flat \u001b[38;5;241m=\u001b[39m \u001b[43mbatching\u001b[49m\u001b[38;5;241;43m.\u001b[39;49m\u001b[43mbatch\u001b[49m\u001b[43m(\u001b[49m\n\u001b[1;32m   1215\u001b[0m \u001b[43m    \u001b[49m\u001b[43mflat_fun\u001b[49m\u001b[43m,\u001b[49m\u001b[43m \u001b[49m\u001b[43maxis_name\u001b[49m\u001b[43m,\u001b[49m\u001b[43m \u001b[49m\u001b[43maxis_size_\u001b[49m\u001b[43m,\u001b[49m\u001b[43m \u001b[49m\u001b[43min_axes_flat\u001b[49m\u001b[43m,\u001b[49m\n\u001b[1;32m   1216\u001b[0m \u001b[43m    \u001b[49m\u001b[38;5;28;43;01mlambda\u001b[39;49;00m\u001b[43m:\u001b[49m\u001b[43m \u001b[49m\u001b[43mflatten_axes\u001b[49m\u001b[43m(\u001b[49m\u001b[38;5;124;43m\"\u001b[39;49m\u001b[38;5;124;43mvmap out_axes\u001b[39;49m\u001b[38;5;124;43m\"\u001b[39;49m\u001b[43m,\u001b[49m\u001b[43m \u001b[49m\u001b[43mout_tree\u001b[49m\u001b[43m(\u001b[49m\u001b[43m)\u001b[49m\u001b[43m,\u001b[49m\u001b[43m \u001b[49m\u001b[43mout_axes\u001b[49m\u001b[43m)\u001b[49m\u001b[43m,\u001b[49m\n\u001b[1;32m   1217\u001b[0m \u001b[43m    \u001b[49m\u001b[43mspmd_axis_name\u001b[49m\u001b[38;5;241;43m=\u001b[39;49m\u001b[43mspmd_axis_name\u001b[49m\n\u001b[1;32m   1218\u001b[0m \u001b[43m\u001b[49m\u001b[43m)\u001b[49m\u001b[38;5;241;43m.\u001b[39;49m\u001b[43mcall_wrapped\u001b[49m\u001b[43m(\u001b[49m\u001b[38;5;241;43m*\u001b[39;49m\u001b[43margs_flat\u001b[49m\u001b[43m)\u001b[49m\n\u001b[1;32m   1219\u001b[0m \u001b[38;5;28;01mreturn\u001b[39;00m tree_unflatten(out_tree(), out_flat)\n",
      "File \u001b[0;32m~/anaconda3/envs/JAX/lib/python3.11/site-packages/jax/_src/linear_util.py:192\u001b[0m, in \u001b[0;36mWrappedFun.call_wrapped\u001b[0;34m(self, *args, **kwargs)\u001b[0m\n\u001b[1;32m    189\u001b[0m gen \u001b[38;5;241m=\u001b[39m gen_static_args \u001b[38;5;241m=\u001b[39m out_store \u001b[38;5;241m=\u001b[39m \u001b[38;5;28;01mNone\u001b[39;00m\n\u001b[1;32m    191\u001b[0m \u001b[38;5;28;01mtry\u001b[39;00m:\n\u001b[0;32m--> 192\u001b[0m   ans \u001b[38;5;241m=\u001b[39m \u001b[38;5;28;43mself\u001b[39;49m\u001b[38;5;241;43m.\u001b[39;49m\u001b[43mf\u001b[49m\u001b[43m(\u001b[49m\u001b[38;5;241;43m*\u001b[39;49m\u001b[43margs\u001b[49m\u001b[43m,\u001b[49m\u001b[43m \u001b[49m\u001b[38;5;241;43m*\u001b[39;49m\u001b[38;5;241;43m*\u001b[39;49m\u001b[38;5;28;43mdict\u001b[39;49m\u001b[43m(\u001b[49m\u001b[38;5;28;43mself\u001b[39;49m\u001b[38;5;241;43m.\u001b[39;49m\u001b[43mparams\u001b[49m\u001b[43m,\u001b[49m\u001b[43m \u001b[49m\u001b[38;5;241;43m*\u001b[39;49m\u001b[38;5;241;43m*\u001b[39;49m\u001b[43mkwargs\u001b[49m\u001b[43m)\u001b[49m\u001b[43m)\u001b[49m\n\u001b[1;32m    193\u001b[0m \u001b[38;5;28;01mexcept\u001b[39;00m:\n\u001b[1;32m    194\u001b[0m   \u001b[38;5;66;03m# Some transformations yield from inside context managers, so we have to\u001b[39;00m\n\u001b[1;32m    195\u001b[0m   \u001b[38;5;66;03m# interrupt them before reraising the exception. Otherwise they will only\u001b[39;00m\n\u001b[1;32m    196\u001b[0m   \u001b[38;5;66;03m# get garbage-collected at some later time, running their cleanup tasks\u001b[39;00m\n\u001b[1;32m    197\u001b[0m   \u001b[38;5;66;03m# only after this exception is handled, which can corrupt the global\u001b[39;00m\n\u001b[1;32m    198\u001b[0m   \u001b[38;5;66;03m# state.\u001b[39;00m\n\u001b[1;32m    199\u001b[0m   \u001b[38;5;28;01mwhile\u001b[39;00m stack:\n",
      "    \u001b[0;31m[... skipping hidden 1 frame]\u001b[0m\n",
      "File \u001b[0;32m~/anaconda3/envs/JAX/lib/python3.11/site-packages/jax/_src/pjit.py:304\u001b[0m, in \u001b[0;36m_cpp_pjit.<locals>.cache_miss\u001b[0;34m(*args, **kwargs)\u001b[0m\n\u001b[1;32m    302\u001b[0m \u001b[38;5;129m@api_boundary\u001b[39m\n\u001b[1;32m    303\u001b[0m \u001b[38;5;28;01mdef\u001b[39;00m \u001b[38;5;21mcache_miss\u001b[39m(\u001b[38;5;241m*\u001b[39margs, \u001b[38;5;241m*\u001b[39m\u001b[38;5;241m*\u001b[39mkwargs):\n\u001b[0;32m--> 304\u001b[0m   outs, out_flat, out_tree, args_flat, jaxpr, attrs_tracked \u001b[38;5;241m=\u001b[39m \u001b[43m_python_pjit_helper\u001b[49m\u001b[43m(\u001b[49m\n\u001b[1;32m    305\u001b[0m \u001b[43m      \u001b[49m\u001b[43mjit_info\u001b[49m\u001b[43m,\u001b[49m\u001b[43m \u001b[49m\u001b[38;5;241;43m*\u001b[39;49m\u001b[43margs\u001b[49m\u001b[43m,\u001b[49m\u001b[43m \u001b[49m\u001b[38;5;241;43m*\u001b[39;49m\u001b[38;5;241;43m*\u001b[39;49m\u001b[43mkwargs\u001b[49m\u001b[43m)\u001b[49m\n\u001b[1;32m    306\u001b[0m   executable \u001b[38;5;241m=\u001b[39m _read_most_recent_pjit_call_executable(jaxpr)\n\u001b[1;32m    307\u001b[0m   maybe_fastpath_data \u001b[38;5;241m=\u001b[39m _get_fastpath_data(\n\u001b[1;32m    308\u001b[0m       executable, out_tree, args_flat, out_flat, attrs_tracked, jaxpr\u001b[38;5;241m.\u001b[39meffects,\n\u001b[1;32m    309\u001b[0m       jaxpr\u001b[38;5;241m.\u001b[39mconsts, jit_info\u001b[38;5;241m.\u001b[39mabstracted_axes)\n",
      "File \u001b[0;32m~/anaconda3/envs/JAX/lib/python3.11/site-packages/jax/_src/pjit.py:181\u001b[0m, in \u001b[0;36m_python_pjit_helper\u001b[0;34m(jit_info, *args, **kwargs)\u001b[0m\n\u001b[1;32m    178\u001b[0m   args_flat \u001b[38;5;241m=\u001b[39m [\u001b[38;5;241m*\u001b[39minit_states, \u001b[38;5;241m*\u001b[39margs_flat]\n\u001b[1;32m    180\u001b[0m \u001b[38;5;28;01mtry\u001b[39;00m:\n\u001b[0;32m--> 181\u001b[0m   out_flat \u001b[38;5;241m=\u001b[39m \u001b[43mpjit_p\u001b[49m\u001b[38;5;241;43m.\u001b[39;49m\u001b[43mbind\u001b[49m\u001b[43m(\u001b[49m\u001b[38;5;241;43m*\u001b[39;49m\u001b[43margs_flat\u001b[49m\u001b[43m,\u001b[49m\u001b[43m \u001b[49m\u001b[38;5;241;43m*\u001b[39;49m\u001b[38;5;241;43m*\u001b[39;49m\u001b[43mparams\u001b[49m\u001b[43m)\u001b[49m\n\u001b[1;32m    182\u001b[0m \u001b[38;5;28;01mexcept\u001b[39;00m pxla\u001b[38;5;241m.\u001b[39mDeviceAssignmentMismatchError \u001b[38;5;28;01mas\u001b[39;00m e:\n\u001b[1;32m    183\u001b[0m   fails, \u001b[38;5;241m=\u001b[39m e\u001b[38;5;241m.\u001b[39margs\n",
      "File \u001b[0;32m~/anaconda3/envs/JAX/lib/python3.11/site-packages/jax/_src/core.py:2789\u001b[0m, in \u001b[0;36mAxisPrimitive.bind\u001b[0;34m(self, *args, **params)\u001b[0m\n\u001b[1;32m   2785\u001b[0m axis_main \u001b[38;5;241m=\u001b[39m \u001b[38;5;28mmax\u001b[39m((axis_frame(a)\u001b[38;5;241m.\u001b[39mmain_trace \u001b[38;5;28;01mfor\u001b[39;00m a \u001b[38;5;129;01min\u001b[39;00m used_axis_names(\u001b[38;5;28mself\u001b[39m, params)),\n\u001b[1;32m   2786\u001b[0m                 default\u001b[38;5;241m=\u001b[39m\u001b[38;5;28;01mNone\u001b[39;00m, key\u001b[38;5;241m=\u001b[39m\u001b[38;5;28;01mlambda\u001b[39;00m t: \u001b[38;5;28mgetattr\u001b[39m(t, \u001b[38;5;124m'\u001b[39m\u001b[38;5;124mlevel\u001b[39m\u001b[38;5;124m'\u001b[39m, \u001b[38;5;241m-\u001b[39m\u001b[38;5;241m1\u001b[39m))\n\u001b[1;32m   2787\u001b[0m top_trace \u001b[38;5;241m=\u001b[39m (top_trace \u001b[38;5;28;01mif\u001b[39;00m \u001b[38;5;129;01mnot\u001b[39;00m axis_main \u001b[38;5;129;01mor\u001b[39;00m axis_main\u001b[38;5;241m.\u001b[39mlevel \u001b[38;5;241m<\u001b[39m top_trace\u001b[38;5;241m.\u001b[39mlevel\n\u001b[1;32m   2788\u001b[0m              \u001b[38;5;28;01melse\u001b[39;00m axis_main\u001b[38;5;241m.\u001b[39mwith_cur_sublevel())\n\u001b[0;32m-> 2789\u001b[0m \u001b[38;5;28;01mreturn\u001b[39;00m \u001b[38;5;28;43mself\u001b[39;49m\u001b[38;5;241;43m.\u001b[39;49m\u001b[43mbind_with_trace\u001b[49m\u001b[43m(\u001b[49m\u001b[43mtop_trace\u001b[49m\u001b[43m,\u001b[49m\u001b[43m \u001b[49m\u001b[43margs\u001b[49m\u001b[43m,\u001b[49m\u001b[43m \u001b[49m\u001b[43mparams\u001b[49m\u001b[43m)\u001b[49m\n",
      "File \u001b[0;32m~/anaconda3/envs/JAX/lib/python3.11/site-packages/jax/_src/core.py:391\u001b[0m, in \u001b[0;36mPrimitive.bind_with_trace\u001b[0;34m(self, trace, args, params)\u001b[0m\n\u001b[1;32m    389\u001b[0m \u001b[38;5;28;01mdef\u001b[39;00m \u001b[38;5;21mbind_with_trace\u001b[39m(\u001b[38;5;28mself\u001b[39m, trace, args, params):\n\u001b[1;32m    390\u001b[0m   \u001b[38;5;28;01mwith\u001b[39;00m pop_level(trace\u001b[38;5;241m.\u001b[39mlevel):\n\u001b[0;32m--> 391\u001b[0m     out \u001b[38;5;241m=\u001b[39m \u001b[43mtrace\u001b[49m\u001b[38;5;241;43m.\u001b[39;49m\u001b[43mprocess_primitive\u001b[49m\u001b[43m(\u001b[49m\u001b[38;5;28;43mself\u001b[39;49m\u001b[43m,\u001b[49m\u001b[43m \u001b[49m\u001b[38;5;28;43mmap\u001b[39;49m\u001b[43m(\u001b[49m\u001b[43mtrace\u001b[49m\u001b[38;5;241;43m.\u001b[39;49m\u001b[43mfull_raise\u001b[49m\u001b[43m,\u001b[49m\u001b[43m \u001b[49m\u001b[43margs\u001b[49m\u001b[43m)\u001b[49m\u001b[43m,\u001b[49m\u001b[43m \u001b[49m\u001b[43mparams\u001b[49m\u001b[43m)\u001b[49m\n\u001b[1;32m    392\u001b[0m   \u001b[38;5;28;01mreturn\u001b[39;00m \u001b[38;5;28mmap\u001b[39m(full_lower, out) \u001b[38;5;28;01mif\u001b[39;00m \u001b[38;5;28mself\u001b[39m\u001b[38;5;241m.\u001b[39mmultiple_results \u001b[38;5;28;01melse\u001b[39;00m full_lower(out)\n",
      "File \u001b[0;32m~/anaconda3/envs/JAX/lib/python3.11/site-packages/jax/_src/interpreters/batching.py:433\u001b[0m, in \u001b[0;36mBatchTrace.process_primitive\u001b[0;34m(self, primitive, tracers, params)\u001b[0m\n\u001b[1;32m    431\u001b[0m   frame \u001b[38;5;241m=\u001b[39m \u001b[38;5;28mself\u001b[39m\u001b[38;5;241m.\u001b[39mget_frame(vals_in, dims_in)\n\u001b[1;32m    432\u001b[0m   batched_primitive \u001b[38;5;241m=\u001b[39m \u001b[38;5;28mself\u001b[39m\u001b[38;5;241m.\u001b[39mget_primitive_batcher(primitive, frame)\n\u001b[0;32m--> 433\u001b[0m   val_out, dim_out \u001b[38;5;241m=\u001b[39m \u001b[43mbatched_primitive\u001b[49m\u001b[43m(\u001b[49m\u001b[43mvals_in\u001b[49m\u001b[43m,\u001b[49m\u001b[43m \u001b[49m\u001b[43mdims_in\u001b[49m\u001b[43m,\u001b[49m\u001b[43m \u001b[49m\u001b[38;5;241;43m*\u001b[39;49m\u001b[38;5;241;43m*\u001b[39;49m\u001b[43mparams\u001b[49m\u001b[43m)\u001b[49m\n\u001b[1;32m    434\u001b[0m src \u001b[38;5;241m=\u001b[39m source_info_util\u001b[38;5;241m.\u001b[39mcurrent()\n\u001b[1;32m    435\u001b[0m \u001b[38;5;28;01mif\u001b[39;00m primitive\u001b[38;5;241m.\u001b[39mmultiple_results:\n",
      "File \u001b[0;32m~/anaconda3/envs/JAX/lib/python3.11/site-packages/jax/_src/pjit.py:1745\u001b[0m, in \u001b[0;36m_pjit_batcher\u001b[0;34m(insert_axis, spmd_axis_name, axis_size, axis_name, main_type, vals_in, dims_in, jaxpr, in_shardings, out_shardings, in_layouts, out_layouts, resource_env, donated_invars, name, keep_unused, inline)\u001b[0m\n\u001b[1;32m   1741\u001b[0m \u001b[38;5;28;01mif\u001b[39;00m \u001b[38;5;129;01mnot\u001b[39;00m (\u001b[38;5;28mall\u001b[39m(l \u001b[38;5;129;01mis\u001b[39;00m \u001b[38;5;28;01mNone\u001b[39;00m \u001b[38;5;28;01mfor\u001b[39;00m l \u001b[38;5;129;01min\u001b[39;00m in_layouts) \u001b[38;5;129;01mand\u001b[39;00m\n\u001b[1;32m   1742\u001b[0m         \u001b[38;5;28mall\u001b[39m(l \u001b[38;5;129;01mis\u001b[39;00m \u001b[38;5;28;01mNone\u001b[39;00m \u001b[38;5;28;01mfor\u001b[39;00m l \u001b[38;5;129;01min\u001b[39;00m out_layouts)):\n\u001b[1;32m   1743\u001b[0m   \u001b[38;5;28;01mraise\u001b[39;00m \u001b[38;5;167;01mNotImplementedError\u001b[39;00m\n\u001b[0;32m-> 1745\u001b[0m vals_out \u001b[38;5;241m=\u001b[39m \u001b[43mpjit_p\u001b[49m\u001b[38;5;241;43m.\u001b[39;49m\u001b[43mbind\u001b[49m\u001b[43m(\u001b[49m\n\u001b[1;32m   1746\u001b[0m \u001b[43m  \u001b[49m\u001b[38;5;241;43m*\u001b[39;49m\u001b[43mvals_in\u001b[49m\u001b[43m,\u001b[49m\n\u001b[1;32m   1747\u001b[0m \u001b[43m  \u001b[49m\u001b[43mjaxpr\u001b[49m\u001b[38;5;241;43m=\u001b[39;49m\u001b[43mnew_jaxpr\u001b[49m\u001b[43m,\u001b[49m\n\u001b[1;32m   1748\u001b[0m \u001b[43m  \u001b[49m\u001b[43min_shardings\u001b[49m\u001b[38;5;241;43m=\u001b[39;49m\u001b[43min_shardings\u001b[49m\u001b[43m,\u001b[49m\n\u001b[1;32m   1749\u001b[0m \u001b[43m  \u001b[49m\u001b[43mout_shardings\u001b[49m\u001b[38;5;241;43m=\u001b[39;49m\u001b[43mout_shardings\u001b[49m\u001b[43m,\u001b[49m\n\u001b[1;32m   1750\u001b[0m \u001b[43m  \u001b[49m\u001b[43min_layouts\u001b[49m\u001b[38;5;241;43m=\u001b[39;49m\u001b[43min_layouts\u001b[49m\u001b[43m,\u001b[49m\n\u001b[1;32m   1751\u001b[0m \u001b[43m  \u001b[49m\u001b[43mout_layouts\u001b[49m\u001b[38;5;241;43m=\u001b[39;49m\u001b[43mout_layouts\u001b[49m\u001b[43m,\u001b[49m\n\u001b[1;32m   1752\u001b[0m \u001b[43m  \u001b[49m\u001b[43mresource_env\u001b[49m\u001b[38;5;241;43m=\u001b[39;49m\u001b[43mresource_env\u001b[49m\u001b[43m,\u001b[49m\n\u001b[1;32m   1753\u001b[0m \u001b[43m  \u001b[49m\u001b[43mdonated_invars\u001b[49m\u001b[38;5;241;43m=\u001b[39;49m\u001b[43mdonated_invars\u001b[49m\u001b[43m,\u001b[49m\n\u001b[1;32m   1754\u001b[0m \u001b[43m  \u001b[49m\u001b[43mname\u001b[49m\u001b[38;5;241;43m=\u001b[39;49m\u001b[43mname\u001b[49m\u001b[43m,\u001b[49m\n\u001b[1;32m   1755\u001b[0m \u001b[43m  \u001b[49m\u001b[43mkeep_unused\u001b[49m\u001b[38;5;241;43m=\u001b[39;49m\u001b[43mkeep_unused\u001b[49m\u001b[43m,\u001b[49m\n\u001b[1;32m   1756\u001b[0m \u001b[43m  \u001b[49m\u001b[43minline\u001b[49m\u001b[38;5;241;43m=\u001b[39;49m\u001b[43minline\u001b[49m\u001b[43m)\u001b[49m\n\u001b[1;32m   1758\u001b[0m resolved_axes_out \u001b[38;5;241m=\u001b[39m batching\u001b[38;5;241m.\u001b[39mresolve_ragged_axes_against_inputs_outputs(\n\u001b[1;32m   1759\u001b[0m     vals_in, vals_out, axes_out)\n\u001b[1;32m   1760\u001b[0m \u001b[38;5;28;01mreturn\u001b[39;00m vals_out, resolved_axes_out\n",
      "File \u001b[0;32m~/anaconda3/envs/JAX/lib/python3.11/site-packages/jax/_src/core.py:2789\u001b[0m, in \u001b[0;36mAxisPrimitive.bind\u001b[0;34m(self, *args, **params)\u001b[0m\n\u001b[1;32m   2785\u001b[0m axis_main \u001b[38;5;241m=\u001b[39m \u001b[38;5;28mmax\u001b[39m((axis_frame(a)\u001b[38;5;241m.\u001b[39mmain_trace \u001b[38;5;28;01mfor\u001b[39;00m a \u001b[38;5;129;01min\u001b[39;00m used_axis_names(\u001b[38;5;28mself\u001b[39m, params)),\n\u001b[1;32m   2786\u001b[0m                 default\u001b[38;5;241m=\u001b[39m\u001b[38;5;28;01mNone\u001b[39;00m, key\u001b[38;5;241m=\u001b[39m\u001b[38;5;28;01mlambda\u001b[39;00m t: \u001b[38;5;28mgetattr\u001b[39m(t, \u001b[38;5;124m'\u001b[39m\u001b[38;5;124mlevel\u001b[39m\u001b[38;5;124m'\u001b[39m, \u001b[38;5;241m-\u001b[39m\u001b[38;5;241m1\u001b[39m))\n\u001b[1;32m   2787\u001b[0m top_trace \u001b[38;5;241m=\u001b[39m (top_trace \u001b[38;5;28;01mif\u001b[39;00m \u001b[38;5;129;01mnot\u001b[39;00m axis_main \u001b[38;5;129;01mor\u001b[39;00m axis_main\u001b[38;5;241m.\u001b[39mlevel \u001b[38;5;241m<\u001b[39m top_trace\u001b[38;5;241m.\u001b[39mlevel\n\u001b[1;32m   2788\u001b[0m              \u001b[38;5;28;01melse\u001b[39;00m axis_main\u001b[38;5;241m.\u001b[39mwith_cur_sublevel())\n\u001b[0;32m-> 2789\u001b[0m \u001b[38;5;28;01mreturn\u001b[39;00m \u001b[38;5;28;43mself\u001b[39;49m\u001b[38;5;241;43m.\u001b[39;49m\u001b[43mbind_with_trace\u001b[49m\u001b[43m(\u001b[49m\u001b[43mtop_trace\u001b[49m\u001b[43m,\u001b[49m\u001b[43m \u001b[49m\u001b[43margs\u001b[49m\u001b[43m,\u001b[49m\u001b[43m \u001b[49m\u001b[43mparams\u001b[49m\u001b[43m)\u001b[49m\n",
      "File \u001b[0;32m~/anaconda3/envs/JAX/lib/python3.11/site-packages/jax/_src/core.py:391\u001b[0m, in \u001b[0;36mPrimitive.bind_with_trace\u001b[0;34m(self, trace, args, params)\u001b[0m\n\u001b[1;32m    389\u001b[0m \u001b[38;5;28;01mdef\u001b[39;00m \u001b[38;5;21mbind_with_trace\u001b[39m(\u001b[38;5;28mself\u001b[39m, trace, args, params):\n\u001b[1;32m    390\u001b[0m   \u001b[38;5;28;01mwith\u001b[39;00m pop_level(trace\u001b[38;5;241m.\u001b[39mlevel):\n\u001b[0;32m--> 391\u001b[0m     out \u001b[38;5;241m=\u001b[39m \u001b[43mtrace\u001b[49m\u001b[38;5;241;43m.\u001b[39;49m\u001b[43mprocess_primitive\u001b[49m\u001b[43m(\u001b[49m\u001b[38;5;28;43mself\u001b[39;49m\u001b[43m,\u001b[49m\u001b[43m \u001b[49m\u001b[38;5;28;43mmap\u001b[39;49m\u001b[43m(\u001b[49m\u001b[43mtrace\u001b[49m\u001b[38;5;241;43m.\u001b[39;49m\u001b[43mfull_raise\u001b[49m\u001b[43m,\u001b[49m\u001b[43m \u001b[49m\u001b[43margs\u001b[49m\u001b[43m)\u001b[49m\u001b[43m,\u001b[49m\u001b[43m \u001b[49m\u001b[43mparams\u001b[49m\u001b[43m)\u001b[49m\n\u001b[1;32m    392\u001b[0m   \u001b[38;5;28;01mreturn\u001b[39;00m \u001b[38;5;28mmap\u001b[39m(full_lower, out) \u001b[38;5;28;01mif\u001b[39;00m \u001b[38;5;28mself\u001b[39m\u001b[38;5;241m.\u001b[39mmultiple_results \u001b[38;5;28;01melse\u001b[39;00m full_lower(out)\n",
      "File \u001b[0;32m~/anaconda3/envs/JAX/lib/python3.11/site-packages/jax/_src/core.py:879\u001b[0m, in \u001b[0;36mEvalTrace.process_primitive\u001b[0;34m(self, primitive, tracers, params)\u001b[0m\n\u001b[1;32m    877\u001b[0m   \u001b[38;5;28;01mreturn\u001b[39;00m call_impl_with_key_reuse_checks(primitive, primitive\u001b[38;5;241m.\u001b[39mimpl, \u001b[38;5;241m*\u001b[39mtracers, \u001b[38;5;241m*\u001b[39m\u001b[38;5;241m*\u001b[39mparams)\n\u001b[1;32m    878\u001b[0m \u001b[38;5;28;01melse\u001b[39;00m:\n\u001b[0;32m--> 879\u001b[0m   \u001b[38;5;28;01mreturn\u001b[39;00m \u001b[43mprimitive\u001b[49m\u001b[38;5;241;43m.\u001b[39;49m\u001b[43mimpl\u001b[49m\u001b[43m(\u001b[49m\u001b[38;5;241;43m*\u001b[39;49m\u001b[43mtracers\u001b[49m\u001b[43m,\u001b[49m\u001b[43m \u001b[49m\u001b[38;5;241;43m*\u001b[39;49m\u001b[38;5;241;43m*\u001b[39;49m\u001b[43mparams\u001b[49m\u001b[43m)\u001b[49m\n",
      "File \u001b[0;32m~/anaconda3/envs/JAX/lib/python3.11/site-packages/jax/_src/pjit.py:1525\u001b[0m, in \u001b[0;36m_pjit_call_impl\u001b[0;34m(jaxpr, in_shardings, out_shardings, in_layouts, out_layouts, resource_env, donated_invars, name, keep_unused, inline, *args)\u001b[0m\n\u001b[1;32m   1522\u001b[0m donated_argnums \u001b[38;5;241m=\u001b[39m [i \u001b[38;5;28;01mfor\u001b[39;00m i, d \u001b[38;5;129;01min\u001b[39;00m \u001b[38;5;28menumerate\u001b[39m(donated_invars) \u001b[38;5;28;01mif\u001b[39;00m d]\n\u001b[1;32m   1523\u001b[0m has_explicit_sharding \u001b[38;5;241m=\u001b[39m _pjit_explicit_sharding(\n\u001b[1;32m   1524\u001b[0m     in_shardings, out_shardings, \u001b[38;5;28;01mNone\u001b[39;00m, \u001b[38;5;28;01mNone\u001b[39;00m)\n\u001b[0;32m-> 1525\u001b[0m \u001b[38;5;28;01mreturn\u001b[39;00m \u001b[43mxc\u001b[49m\u001b[38;5;241;43m.\u001b[39;49m\u001b[43m_xla\u001b[49m\u001b[38;5;241;43m.\u001b[39;49m\u001b[43mpjit\u001b[49m\u001b[43m(\u001b[49m\n\u001b[1;32m   1526\u001b[0m \u001b[43m    \u001b[49m\u001b[43mname\u001b[49m\u001b[43m,\u001b[49m\u001b[43m \u001b[49m\u001b[43mf\u001b[49m\u001b[43m,\u001b[49m\u001b[43m \u001b[49m\u001b[43mcall_impl_cache_miss\u001b[49m\u001b[43m,\u001b[49m\u001b[43m \u001b[49m\u001b[43m[\u001b[49m\u001b[43m]\u001b[49m\u001b[43m,\u001b[49m\u001b[43m \u001b[49m\u001b[43m[\u001b[49m\u001b[43m]\u001b[49m\u001b[43m,\u001b[49m\u001b[43m \u001b[49m\u001b[43mdonated_argnums\u001b[49m\u001b[43m,\u001b[49m\n\u001b[1;32m   1527\u001b[0m \u001b[43m    \u001b[49m\u001b[43mtree_util\u001b[49m\u001b[38;5;241;43m.\u001b[39;49m\u001b[43mdispatch_registry\u001b[49m\u001b[43m,\u001b[49m\n\u001b[1;32m   1528\u001b[0m \u001b[43m    \u001b[49m\u001b[43mpxla\u001b[49m\u001b[38;5;241;43m.\u001b[39;49m\u001b[43mshard_arg\u001b[49m\u001b[43m,\u001b[49m\u001b[43m  \u001b[49m\u001b[38;5;66;43;03m# type: ignore\u001b[39;49;00m\n\u001b[1;32m   1529\u001b[0m \u001b[43m    \u001b[49m\u001b[43m_get_cpp_global_cache\u001b[49m\u001b[43m(\u001b[49m\u001b[43mhas_explicit_sharding\u001b[49m\u001b[43m)\u001b[49m\u001b[43m)\u001b[49m\u001b[43m(\u001b[49m\u001b[38;5;241;43m*\u001b[39;49m\u001b[43margs\u001b[49m\u001b[43m)\u001b[49m\n",
      "\u001b[0;31mKeyboardInterrupt\u001b[0m: "
     ]
    }
   ],
   "source": [
    "random.seed(0)\n",
    "nvmap=1000000\n",
    "outs=[]\n",
    "for i in [10,100]:\n",
    "    asks,bids,trades=create_init_book(booksize=i,tradessize=i)\n",
    "    _,limitmsg=create_message(type='limit',side='bid',price=2191200,quant=77)\n",
    "    _,cancelmsg=create_message(type='cancel',side='bid',price=2191200,quant=77)\n",
    "    _,matchmsg=create_message(type='limit',side='ask',price=2191200,quant=100)\n",
    "\n",
    "    out,_=job.cond_type_side((asks,bids,trades),limitmsg)\n",
    "    print(\"Limit order for book of size \",i,\":\",timeit.timeit('val=job.cond_type_side((asks,bids,trades),limitmsg); jax.block_until_ready(val)',number=n_runs,globals=globals())/n_runs)\n",
    "    out,_=job.cond_type_side(out,cancelmsg)\n",
    "    print(\"Cancel order for book of size \",i,\":\",timeit.timeit('val=job.cond_type_side(out,cancelmsg); jax.block_until_ready(val)',number=n_runs,globals=globals())/n_runs)\n",
    "    out,_=job.cond_type_side(out,matchmsg)\n",
    "    print(\"Matched limit order for book of size \",i,\":\",timeit.timeit('val=job.cond_type_side(out,matchmsg); jax.block_until_ready(val)',number=n_runs,globals=globals())/n_runs)\n",
    "    outs.append(out)\n",
    "\n",
    "    vasks=jnp.array([asks]*nvmap)\n",
    "    vbids=jnp.array([bids]*nvmap)\n",
    "    vtrades=jnp.array([trades]*nvmap)\n",
    "    vlimitms=jnp.array([limitmsg]*nvmap)\n",
    "    vcancelms=jnp.array([cancelmsg]*nvmap)\n",
    "    vmatchms=jnp.array([matchmsg]*nvmap)\n",
    "\n",
    "    out,_=jax.vmap(job.cond_type_side,((0,0,0),0))((vasks,vbids,vtrades),vlimitms)\n",
    "    print(\"VMAP limit order for book of size \",i,\":\",timeit.timeit('val=jax.vmap(job.cond_type_side,((0,0,0),0))((vasks,vbids,vtrades),vlimitms); jax.block_until_ready(val)',number=n_runs,globals=globals())/n_runs)\n",
    "    out,_=jax.vmap(job.cond_type_side,((0,0,0),0))(out,vcancelms)\n",
    "    print(\"VMAP cancel order for book of size \",i,\":\",timeit.timeit('val=jax.vmap(job.cond_type_side,((0,0,0),0))(out,vcancelms); jax.block_until_ready(val)',number=n_runs,globals=globals())/n_runs)\n",
    "    out,_=jax.vmap(job.cond_type_side,((0,0,0),0))(out,vmatchms)\n",
    "    print(\"VMAP matched limit order for book of size \",i,\":\",timeit.timeit('val=jax.vmap(job.cond_type_side,((0,0,0),0))(out,vmatchms); jax.block_until_ready(val)',number=n_runs,globals=globals())/n_runs)\n",
    "\n",
    "\n",
    "    \n"
   ]
  },
  {
   "cell_type": "markdown",
   "metadata": {},
   "source": [
    "Limit order for book of size  10 : 0.00010684770345687866\n",
    "Cancel order for book of size  10 : 7.434402499347926e-05\n",
    "Matched limit order for book of size  10 : 0.00016043131798505782\n",
    "VMAP limit order for book of size  10 : 0.006443732594139874\n",
    "VMAP cancel order for book of size  10 : 0.0064374489830806856\n",
    "VMAP matched limit order for book of size  10 : 0.006422483234666288\n",
    "Limit order for book of size  100 : 0.00014240943174809216\n",
    "Cancel order for book of size  100 : 8.986285887658596e-05\n",
    "Matched limit order for book of size  100 : 0.0002076397556811571\n",
    "VMAP limit order for book of size  100 : 0.05448427036125213\n",
    "VMAP cancel order for book of size  100 : 0.05465182608179748\n",
    "VMAP matched limit order for book of size  100 : 0.05493127669394016"
   ]
  }
 ],
 "metadata": {
  "kernelspec": {
   "display_name": "alphatrade",
   "language": "python",
   "name": "python3"
  },
  "language_info": {
   "codemirror_mode": {
    "name": "ipython",
    "version": 3
   },
   "file_extension": ".py",
   "mimetype": "text/x-python",
   "name": "python",
   "nbconvert_exporter": "python",
   "pygments_lexer": "ipython3",
   "version": "3.11.9"
  },
  "orig_nbformat": 4
 },
 "nbformat": 4,
 "nbformat_minor": 2
}
